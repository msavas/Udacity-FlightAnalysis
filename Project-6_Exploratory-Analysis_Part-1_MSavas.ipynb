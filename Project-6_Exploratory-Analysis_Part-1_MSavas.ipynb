{
 "cells": [
  {
   "cell_type": "markdown",
   "metadata": {},
   "source": [
    "# An Exploration of US Flight Data, 2005-2008\n",
    "## by Matthew Savas\n",
    "\n",
    "## Preliminary Wrangling\n",
    "\n",
    "This data is taken from the [US Bureau of Transportation of Statistics](https://www.transtats.bts.gov/Fields.asp?Table_ID=236). I have merged the 4 most recent years of data, 2005-2008, into a single dataset."
   ]
  },
  {
   "cell_type": "code",
   "execution_count": 1,
   "metadata": {},
   "outputs": [],
   "source": [
    "# import all packages and set plots to be embedded inline\n",
    "import numpy as np\n",
    "import pandas as pd\n",
    "import matplotlib.pyplot as plt\n",
    "import seaborn as sb\n",
    "\n",
    "%matplotlib inline"
   ]
  },
  {
   "cell_type": "code",
   "execution_count": 2,
   "metadata": {},
   "outputs": [],
   "source": [
    "# load multiple datasets\n",
    "df_05 = pd.read_csv('2005.csv')\n",
    "df_06 = pd.read_csv('2006.csv')\n",
    "df_07 = pd.read_csv('2007.csv')\n",
    "df_08 = pd.read_csv('2008.csv')"
   ]
  },
  {
   "cell_type": "code",
   "execution_count": 3,
   "metadata": {},
   "outputs": [],
   "source": [
    "# merge datasets into a single frame\n",
    "frames = [df_05, df_06, df_07, df_08]\n",
    "df = pd.concat(frames)"
   ]
  },
  {
   "cell_type": "code",
   "execution_count": 4,
   "metadata": {},
   "outputs": [
    {
     "name": "stdout",
     "output_type": "stream",
     "text": [
      "<class 'pandas.core.frame.DataFrame'>\n",
      "Int64Index: 28745461 entries, 0 to 7009727\n",
      "Data columns (total 29 columns):\n",
      "Year                 int64\n",
      "Month                int64\n",
      "DayofMonth           int64\n",
      "DayOfWeek            int64\n",
      "DepTime              float64\n",
      "CRSDepTime           int64\n",
      "ArrTime              float64\n",
      "CRSArrTime           int64\n",
      "UniqueCarrier        object\n",
      "FlightNum            int64\n",
      "TailNum              object\n",
      "ActualElapsedTime    float64\n",
      "CRSElapsedTime       float64\n",
      "AirTime              float64\n",
      "ArrDelay             float64\n",
      "DepDelay             float64\n",
      "Origin               object\n",
      "Dest                 object\n",
      "Distance             int64\n",
      "TaxiIn               float64\n",
      "TaxiOut              float64\n",
      "Cancelled            int64\n",
      "CancellationCode     object\n",
      "Diverted             int64\n",
      "CarrierDelay         float64\n",
      "WeatherDelay         float64\n",
      "NASDelay             float64\n",
      "SecurityDelay        float64\n",
      "LateAircraftDelay    float64\n",
      "dtypes: float64(14), int64(10), object(5)\n",
      "memory usage: 6.4+ GB\n"
     ]
    },
    {
     "data": {
      "text/plain": [
       "(28745461, 29)"
      ]
     },
     "execution_count": 4,
     "metadata": {},
     "output_type": "execute_result"
    }
   ],
   "source": [
    "# check basic info of the dataset \n",
    "df.info()\n",
    "df.shape"
   ]
  },
  {
   "cell_type": "code",
   "execution_count": 5,
   "metadata": {},
   "outputs": [
    {
     "data": {
      "text/html": [
       "<div>\n",
       "<style scoped>\n",
       "    .dataframe tbody tr th:only-of-type {\n",
       "        vertical-align: middle;\n",
       "    }\n",
       "\n",
       "    .dataframe tbody tr th {\n",
       "        vertical-align: top;\n",
       "    }\n",
       "\n",
       "    .dataframe thead th {\n",
       "        text-align: right;\n",
       "    }\n",
       "</style>\n",
       "<table border=\"1\" class=\"dataframe\">\n",
       "  <thead>\n",
       "    <tr style=\"text-align: right;\">\n",
       "      <th></th>\n",
       "      <th>Year</th>\n",
       "      <th>Month</th>\n",
       "      <th>DayofMonth</th>\n",
       "      <th>DayOfWeek</th>\n",
       "      <th>DepTime</th>\n",
       "      <th>CRSDepTime</th>\n",
       "      <th>ArrTime</th>\n",
       "      <th>CRSArrTime</th>\n",
       "      <th>UniqueCarrier</th>\n",
       "      <th>FlightNum</th>\n",
       "      <th>...</th>\n",
       "      <th>TaxiIn</th>\n",
       "      <th>TaxiOut</th>\n",
       "      <th>Cancelled</th>\n",
       "      <th>CancellationCode</th>\n",
       "      <th>Diverted</th>\n",
       "      <th>CarrierDelay</th>\n",
       "      <th>WeatherDelay</th>\n",
       "      <th>NASDelay</th>\n",
       "      <th>SecurityDelay</th>\n",
       "      <th>LateAircraftDelay</th>\n",
       "    </tr>\n",
       "  </thead>\n",
       "  <tbody>\n",
       "    <tr>\n",
       "      <th>0</th>\n",
       "      <td>2005</td>\n",
       "      <td>1</td>\n",
       "      <td>28</td>\n",
       "      <td>5</td>\n",
       "      <td>1603.0</td>\n",
       "      <td>1605</td>\n",
       "      <td>1741.0</td>\n",
       "      <td>1759</td>\n",
       "      <td>UA</td>\n",
       "      <td>541</td>\n",
       "      <td>...</td>\n",
       "      <td>4.0</td>\n",
       "      <td>23.0</td>\n",
       "      <td>0</td>\n",
       "      <td>NaN</td>\n",
       "      <td>0</td>\n",
       "      <td>0.0</td>\n",
       "      <td>0.0</td>\n",
       "      <td>0.0</td>\n",
       "      <td>0.0</td>\n",
       "      <td>0.0</td>\n",
       "    </tr>\n",
       "    <tr>\n",
       "      <th>1</th>\n",
       "      <td>2005</td>\n",
       "      <td>1</td>\n",
       "      <td>29</td>\n",
       "      <td>6</td>\n",
       "      <td>1559.0</td>\n",
       "      <td>1605</td>\n",
       "      <td>1736.0</td>\n",
       "      <td>1759</td>\n",
       "      <td>UA</td>\n",
       "      <td>541</td>\n",
       "      <td>...</td>\n",
       "      <td>6.0</td>\n",
       "      <td>15.0</td>\n",
       "      <td>0</td>\n",
       "      <td>NaN</td>\n",
       "      <td>0</td>\n",
       "      <td>0.0</td>\n",
       "      <td>0.0</td>\n",
       "      <td>0.0</td>\n",
       "      <td>0.0</td>\n",
       "      <td>0.0</td>\n",
       "    </tr>\n",
       "    <tr>\n",
       "      <th>2</th>\n",
       "      <td>2005</td>\n",
       "      <td>1</td>\n",
       "      <td>30</td>\n",
       "      <td>7</td>\n",
       "      <td>1603.0</td>\n",
       "      <td>1610</td>\n",
       "      <td>1741.0</td>\n",
       "      <td>1805</td>\n",
       "      <td>UA</td>\n",
       "      <td>541</td>\n",
       "      <td>...</td>\n",
       "      <td>9.0</td>\n",
       "      <td>18.0</td>\n",
       "      <td>0</td>\n",
       "      <td>NaN</td>\n",
       "      <td>0</td>\n",
       "      <td>0.0</td>\n",
       "      <td>0.0</td>\n",
       "      <td>0.0</td>\n",
       "      <td>0.0</td>\n",
       "      <td>0.0</td>\n",
       "    </tr>\n",
       "    <tr>\n",
       "      <th>3</th>\n",
       "      <td>2005</td>\n",
       "      <td>1</td>\n",
       "      <td>31</td>\n",
       "      <td>1</td>\n",
       "      <td>1556.0</td>\n",
       "      <td>1605</td>\n",
       "      <td>1726.0</td>\n",
       "      <td>1759</td>\n",
       "      <td>UA</td>\n",
       "      <td>541</td>\n",
       "      <td>...</td>\n",
       "      <td>11.0</td>\n",
       "      <td>10.0</td>\n",
       "      <td>0</td>\n",
       "      <td>NaN</td>\n",
       "      <td>0</td>\n",
       "      <td>0.0</td>\n",
       "      <td>0.0</td>\n",
       "      <td>0.0</td>\n",
       "      <td>0.0</td>\n",
       "      <td>0.0</td>\n",
       "    </tr>\n",
       "    <tr>\n",
       "      <th>4</th>\n",
       "      <td>2005</td>\n",
       "      <td>1</td>\n",
       "      <td>2</td>\n",
       "      <td>7</td>\n",
       "      <td>1934.0</td>\n",
       "      <td>1900</td>\n",
       "      <td>2235.0</td>\n",
       "      <td>2232</td>\n",
       "      <td>UA</td>\n",
       "      <td>542</td>\n",
       "      <td>...</td>\n",
       "      <td>5.0</td>\n",
       "      <td>10.0</td>\n",
       "      <td>0</td>\n",
       "      <td>NaN</td>\n",
       "      <td>0</td>\n",
       "      <td>0.0</td>\n",
       "      <td>0.0</td>\n",
       "      <td>0.0</td>\n",
       "      <td>0.0</td>\n",
       "      <td>0.0</td>\n",
       "    </tr>\n",
       "  </tbody>\n",
       "</table>\n",
       "<p>5 rows × 29 columns</p>\n",
       "</div>"
      ],
      "text/plain": [
       "   Year  Month  DayofMonth  DayOfWeek  DepTime  CRSDepTime  ArrTime  \\\n",
       "0  2005      1          28          5   1603.0        1605   1741.0   \n",
       "1  2005      1          29          6   1559.0        1605   1736.0   \n",
       "2  2005      1          30          7   1603.0        1610   1741.0   \n",
       "3  2005      1          31          1   1556.0        1605   1726.0   \n",
       "4  2005      1           2          7   1934.0        1900   2235.0   \n",
       "\n",
       "   CRSArrTime UniqueCarrier  FlightNum        ...         TaxiIn  TaxiOut  \\\n",
       "0        1759            UA        541        ...            4.0     23.0   \n",
       "1        1759            UA        541        ...            6.0     15.0   \n",
       "2        1805            UA        541        ...            9.0     18.0   \n",
       "3        1759            UA        541        ...           11.0     10.0   \n",
       "4        2232            UA        542        ...            5.0     10.0   \n",
       "\n",
       "   Cancelled  CancellationCode  Diverted  CarrierDelay WeatherDelay NASDelay  \\\n",
       "0          0               NaN         0           0.0          0.0      0.0   \n",
       "1          0               NaN         0           0.0          0.0      0.0   \n",
       "2          0               NaN         0           0.0          0.0      0.0   \n",
       "3          0               NaN         0           0.0          0.0      0.0   \n",
       "4          0               NaN         0           0.0          0.0      0.0   \n",
       "\n",
       "   SecurityDelay  LateAircraftDelay  \n",
       "0            0.0                0.0  \n",
       "1            0.0                0.0  \n",
       "2            0.0                0.0  \n",
       "3            0.0                0.0  \n",
       "4            0.0                0.0  \n",
       "\n",
       "[5 rows x 29 columns]"
      ]
     },
     "execution_count": 5,
     "metadata": {},
     "output_type": "execute_result"
    }
   ],
   "source": [
    "df.head()"
   ]
  },
  {
   "cell_type": "code",
   "execution_count": 6,
   "metadata": {},
   "outputs": [
    {
     "data": {
      "text/html": [
       "<div>\n",
       "<style scoped>\n",
       "    .dataframe tbody tr th:only-of-type {\n",
       "        vertical-align: middle;\n",
       "    }\n",
       "\n",
       "    .dataframe tbody tr th {\n",
       "        vertical-align: top;\n",
       "    }\n",
       "\n",
       "    .dataframe thead th {\n",
       "        text-align: right;\n",
       "    }\n",
       "</style>\n",
       "<table border=\"1\" class=\"dataframe\">\n",
       "  <thead>\n",
       "    <tr style=\"text-align: right;\">\n",
       "      <th></th>\n",
       "      <th>Year</th>\n",
       "      <th>Month</th>\n",
       "      <th>DayofMonth</th>\n",
       "      <th>DayOfWeek</th>\n",
       "      <th>DepTime</th>\n",
       "      <th>CRSDepTime</th>\n",
       "      <th>ArrTime</th>\n",
       "      <th>CRSArrTime</th>\n",
       "      <th>FlightNum</th>\n",
       "      <th>ActualElapsedTime</th>\n",
       "      <th>...</th>\n",
       "      <th>Distance</th>\n",
       "      <th>TaxiIn</th>\n",
       "      <th>TaxiOut</th>\n",
       "      <th>Cancelled</th>\n",
       "      <th>Diverted</th>\n",
       "      <th>CarrierDelay</th>\n",
       "      <th>WeatherDelay</th>\n",
       "      <th>NASDelay</th>\n",
       "      <th>SecurityDelay</th>\n",
       "      <th>LateAircraftDelay</th>\n",
       "    </tr>\n",
       "  </thead>\n",
       "  <tbody>\n",
       "    <tr>\n",
       "      <th>count</th>\n",
       "      <td>2.874546e+07</td>\n",
       "      <td>2.874546e+07</td>\n",
       "      <td>2.874546e+07</td>\n",
       "      <td>2.874546e+07</td>\n",
       "      <td>2.819280e+07</td>\n",
       "      <td>2.874546e+07</td>\n",
       "      <td>2.813001e+07</td>\n",
       "      <td>2.874546e+07</td>\n",
       "      <td>2.874546e+07</td>\n",
       "      <td>2.812696e+07</td>\n",
       "      <td>...</td>\n",
       "      <td>2.874546e+07</td>\n",
       "      <td>2.859381e+07</td>\n",
       "      <td>2.860840e+07</td>\n",
       "      <td>2.874546e+07</td>\n",
       "      <td>2.874546e+07</td>\n",
       "      <td>2.326047e+07</td>\n",
       "      <td>2.326047e+07</td>\n",
       "      <td>2.326047e+07</td>\n",
       "      <td>2.326047e+07</td>\n",
       "      <td>2.326047e+07</td>\n",
       "    </tr>\n",
       "    <tr>\n",
       "      <th>mean</th>\n",
       "      <td>2.006499e+03</td>\n",
       "      <td>6.484321e+00</td>\n",
       "      <td>1.572595e+01</td>\n",
       "      <td>3.938134e+00</td>\n",
       "      <td>1.339519e+03</td>\n",
       "      <td>1.331739e+03</td>\n",
       "      <td>1.485413e+03</td>\n",
       "      <td>1.496446e+03</td>\n",
       "      <td>2.160443e+03</td>\n",
       "      <td>1.261049e+02</td>\n",
       "      <td>...</td>\n",
       "      <td>7.244232e+02</td>\n",
       "      <td>7.043702e+00</td>\n",
       "      <td>1.598196e+01</td>\n",
       "      <td>1.926725e-02</td>\n",
       "      <td>2.249329e-03</td>\n",
       "      <td>4.236967e+00</td>\n",
       "      <td>8.572914e-01</td>\n",
       "      <td>4.472359e+00</td>\n",
       "      <td>2.810081e-02</td>\n",
       "      <td>5.506278e+00</td>\n",
       "    </tr>\n",
       "    <tr>\n",
       "      <th>std</th>\n",
       "      <td>1.111091e+00</td>\n",
       "      <td>3.417658e+00</td>\n",
       "      <td>8.787606e+00</td>\n",
       "      <td>1.990655e+00</td>\n",
       "      <td>4.778368e+02</td>\n",
       "      <td>4.639745e+02</td>\n",
       "      <td>5.034113e+02</td>\n",
       "      <td>4.808414e+02</td>\n",
       "      <td>1.943519e+03</td>\n",
       "      <td>7.088660e+01</td>\n",
       "      <td>...</td>\n",
       "      <td>5.675240e+02</td>\n",
       "      <td>2.711206e+01</td>\n",
       "      <td>1.131661e+01</td>\n",
       "      <td>1.374628e-01</td>\n",
       "      <td>4.737372e-02</td>\n",
       "      <td>2.140553e+01</td>\n",
       "      <td>9.915769e+00</td>\n",
       "      <td>1.744351e+01</td>\n",
       "      <td>1.192442e+00</td>\n",
       "      <td>2.184749e+01</td>\n",
       "    </tr>\n",
       "    <tr>\n",
       "      <th>min</th>\n",
       "      <td>2.005000e+03</td>\n",
       "      <td>1.000000e+00</td>\n",
       "      <td>1.000000e+00</td>\n",
       "      <td>1.000000e+00</td>\n",
       "      <td>1.000000e+00</td>\n",
       "      <td>0.000000e+00</td>\n",
       "      <td>1.000000e+00</td>\n",
       "      <td>0.000000e+00</td>\n",
       "      <td>1.000000e+00</td>\n",
       "      <td>-6.600000e+01</td>\n",
       "      <td>...</td>\n",
       "      <td>1.100000e+01</td>\n",
       "      <td>0.000000e+00</td>\n",
       "      <td>0.000000e+00</td>\n",
       "      <td>0.000000e+00</td>\n",
       "      <td>0.000000e+00</td>\n",
       "      <td>0.000000e+00</td>\n",
       "      <td>0.000000e+00</td>\n",
       "      <td>-4.900000e+01</td>\n",
       "      <td>0.000000e+00</td>\n",
       "      <td>0.000000e+00</td>\n",
       "    </tr>\n",
       "    <tr>\n",
       "      <th>25%</th>\n",
       "      <td>2.006000e+03</td>\n",
       "      <td>4.000000e+00</td>\n",
       "      <td>8.000000e+00</td>\n",
       "      <td>2.000000e+00</td>\n",
       "      <td>9.300000e+02</td>\n",
       "      <td>9.300000e+02</td>\n",
       "      <td>1.109000e+03</td>\n",
       "      <td>1.115000e+03</td>\n",
       "      <td>5.940000e+02</td>\n",
       "      <td>7.500000e+01</td>\n",
       "      <td>...</td>\n",
       "      <td>3.190000e+02</td>\n",
       "      <td>4.000000e+00</td>\n",
       "      <td>1.000000e+01</td>\n",
       "      <td>0.000000e+00</td>\n",
       "      <td>0.000000e+00</td>\n",
       "      <td>0.000000e+00</td>\n",
       "      <td>0.000000e+00</td>\n",
       "      <td>0.000000e+00</td>\n",
       "      <td>0.000000e+00</td>\n",
       "      <td>0.000000e+00</td>\n",
       "    </tr>\n",
       "    <tr>\n",
       "      <th>50%</th>\n",
       "      <td>2.007000e+03</td>\n",
       "      <td>6.000000e+00</td>\n",
       "      <td>1.600000e+01</td>\n",
       "      <td>4.000000e+00</td>\n",
       "      <td>1.329000e+03</td>\n",
       "      <td>1.325000e+03</td>\n",
       "      <td>1.515000e+03</td>\n",
       "      <td>1.520000e+03</td>\n",
       "      <td>1.503000e+03</td>\n",
       "      <td>1.080000e+02</td>\n",
       "      <td>...</td>\n",
       "      <td>5.700000e+02</td>\n",
       "      <td>5.000000e+00</td>\n",
       "      <td>1.300000e+01</td>\n",
       "      <td>0.000000e+00</td>\n",
       "      <td>0.000000e+00</td>\n",
       "      <td>0.000000e+00</td>\n",
       "      <td>0.000000e+00</td>\n",
       "      <td>0.000000e+00</td>\n",
       "      <td>0.000000e+00</td>\n",
       "      <td>0.000000e+00</td>\n",
       "    </tr>\n",
       "    <tr>\n",
       "      <th>75%</th>\n",
       "      <td>2.007000e+03</td>\n",
       "      <td>9.000000e+00</td>\n",
       "      <td>2.300000e+01</td>\n",
       "      <td>6.000000e+00</td>\n",
       "      <td>1.732000e+03</td>\n",
       "      <td>1.720000e+03</td>\n",
       "      <td>1.911000e+03</td>\n",
       "      <td>1.908000e+03</td>\n",
       "      <td>3.415000e+03</td>\n",
       "      <td>1.560000e+02</td>\n",
       "      <td>...</td>\n",
       "      <td>9.510000e+02</td>\n",
       "      <td>8.000000e+00</td>\n",
       "      <td>1.900000e+01</td>\n",
       "      <td>0.000000e+00</td>\n",
       "      <td>0.000000e+00</td>\n",
       "      <td>0.000000e+00</td>\n",
       "      <td>0.000000e+00</td>\n",
       "      <td>0.000000e+00</td>\n",
       "      <td>0.000000e+00</td>\n",
       "      <td>0.000000e+00</td>\n",
       "    </tr>\n",
       "    <tr>\n",
       "      <th>max</th>\n",
       "      <td>2.008000e+03</td>\n",
       "      <td>1.200000e+01</td>\n",
       "      <td>3.100000e+01</td>\n",
       "      <td>7.000000e+00</td>\n",
       "      <td>2.930000e+03</td>\n",
       "      <td>2.359000e+03</td>\n",
       "      <td>2.955000e+03</td>\n",
       "      <td>2.400000e+03</td>\n",
       "      <td>9.743000e+03</td>\n",
       "      <td>1.879000e+03</td>\n",
       "      <td>...</td>\n",
       "      <td>4.962000e+03</td>\n",
       "      <td>1.523000e+03</td>\n",
       "      <td>1.339000e+03</td>\n",
       "      <td>1.000000e+00</td>\n",
       "      <td>1.000000e+00</td>\n",
       "      <td>2.580000e+03</td>\n",
       "      <td>1.510000e+03</td>\n",
       "      <td>1.392000e+03</td>\n",
       "      <td>3.920000e+02</td>\n",
       "      <td>1.366000e+03</td>\n",
       "    </tr>\n",
       "  </tbody>\n",
       "</table>\n",
       "<p>8 rows × 24 columns</p>\n",
       "</div>"
      ],
      "text/plain": [
       "               Year         Month    DayofMonth     DayOfWeek       DepTime  \\\n",
       "count  2.874546e+07  2.874546e+07  2.874546e+07  2.874546e+07  2.819280e+07   \n",
       "mean   2.006499e+03  6.484321e+00  1.572595e+01  3.938134e+00  1.339519e+03   \n",
       "std    1.111091e+00  3.417658e+00  8.787606e+00  1.990655e+00  4.778368e+02   \n",
       "min    2.005000e+03  1.000000e+00  1.000000e+00  1.000000e+00  1.000000e+00   \n",
       "25%    2.006000e+03  4.000000e+00  8.000000e+00  2.000000e+00  9.300000e+02   \n",
       "50%    2.007000e+03  6.000000e+00  1.600000e+01  4.000000e+00  1.329000e+03   \n",
       "75%    2.007000e+03  9.000000e+00  2.300000e+01  6.000000e+00  1.732000e+03   \n",
       "max    2.008000e+03  1.200000e+01  3.100000e+01  7.000000e+00  2.930000e+03   \n",
       "\n",
       "         CRSDepTime       ArrTime    CRSArrTime     FlightNum  \\\n",
       "count  2.874546e+07  2.813001e+07  2.874546e+07  2.874546e+07   \n",
       "mean   1.331739e+03  1.485413e+03  1.496446e+03  2.160443e+03   \n",
       "std    4.639745e+02  5.034113e+02  4.808414e+02  1.943519e+03   \n",
       "min    0.000000e+00  1.000000e+00  0.000000e+00  1.000000e+00   \n",
       "25%    9.300000e+02  1.109000e+03  1.115000e+03  5.940000e+02   \n",
       "50%    1.325000e+03  1.515000e+03  1.520000e+03  1.503000e+03   \n",
       "75%    1.720000e+03  1.911000e+03  1.908000e+03  3.415000e+03   \n",
       "max    2.359000e+03  2.955000e+03  2.400000e+03  9.743000e+03   \n",
       "\n",
       "       ActualElapsedTime        ...              Distance        TaxiIn  \\\n",
       "count       2.812696e+07        ...          2.874546e+07  2.859381e+07   \n",
       "mean        1.261049e+02        ...          7.244232e+02  7.043702e+00   \n",
       "std         7.088660e+01        ...          5.675240e+02  2.711206e+01   \n",
       "min        -6.600000e+01        ...          1.100000e+01  0.000000e+00   \n",
       "25%         7.500000e+01        ...          3.190000e+02  4.000000e+00   \n",
       "50%         1.080000e+02        ...          5.700000e+02  5.000000e+00   \n",
       "75%         1.560000e+02        ...          9.510000e+02  8.000000e+00   \n",
       "max         1.879000e+03        ...          4.962000e+03  1.523000e+03   \n",
       "\n",
       "            TaxiOut     Cancelled      Diverted  CarrierDelay  WeatherDelay  \\\n",
       "count  2.860840e+07  2.874546e+07  2.874546e+07  2.326047e+07  2.326047e+07   \n",
       "mean   1.598196e+01  1.926725e-02  2.249329e-03  4.236967e+00  8.572914e-01   \n",
       "std    1.131661e+01  1.374628e-01  4.737372e-02  2.140553e+01  9.915769e+00   \n",
       "min    0.000000e+00  0.000000e+00  0.000000e+00  0.000000e+00  0.000000e+00   \n",
       "25%    1.000000e+01  0.000000e+00  0.000000e+00  0.000000e+00  0.000000e+00   \n",
       "50%    1.300000e+01  0.000000e+00  0.000000e+00  0.000000e+00  0.000000e+00   \n",
       "75%    1.900000e+01  0.000000e+00  0.000000e+00  0.000000e+00  0.000000e+00   \n",
       "max    1.339000e+03  1.000000e+00  1.000000e+00  2.580000e+03  1.510000e+03   \n",
       "\n",
       "           NASDelay  SecurityDelay  LateAircraftDelay  \n",
       "count  2.326047e+07   2.326047e+07       2.326047e+07  \n",
       "mean   4.472359e+00   2.810081e-02       5.506278e+00  \n",
       "std    1.744351e+01   1.192442e+00       2.184749e+01  \n",
       "min   -4.900000e+01   0.000000e+00       0.000000e+00  \n",
       "25%    0.000000e+00   0.000000e+00       0.000000e+00  \n",
       "50%    0.000000e+00   0.000000e+00       0.000000e+00  \n",
       "75%    0.000000e+00   0.000000e+00       0.000000e+00  \n",
       "max    1.392000e+03   3.920000e+02       1.366000e+03  \n",
       "\n",
       "[8 rows x 24 columns]"
      ]
     },
     "execution_count": 6,
     "metadata": {},
     "output_type": "execute_result"
    }
   ],
   "source": [
    "df.describe()"
   ]
  },
  {
   "cell_type": "markdown",
   "metadata": {},
   "source": [
    "### What is the structure of your dataset?\n",
    "\n",
    "The dataset comprises 4 years of flight data from 2005-2008. There are 28745461 flights captured across 29 variables. \n",
    "\n",
    "### What is/are the main feature(s) of interest in your dataset?\n",
    "\n",
    "I am most interested to learn about: \n",
    "* The busiest airlines and airports\n",
    "* The best and worst performing carriers and airports\n",
    "\n",
    "I frequently travel for work, so this is valuable information!\n",
    "\n",
    "### What features in the dataset do you think will help support your investigation into your feature(s) of interest?\n",
    "\n",
    "The dataset is already well organized to answer these questions. I will leverage the carrier codes and airport codes to investigate performance. Delta is frequently cited as a top carrier in the US - and my preferred airline - so I suspect this airline will perform especially well."
   ]
  },
  {
   "cell_type": "markdown",
   "metadata": {},
   "source": [
    "## Univariate Exploration\n",
    "\n",
    "> In this section, investigate distributions of individual variables. If\n",
    "you see unusual points or outliers, take a deeper look to clean things up\n",
    "and prepare yourself to look at relationships between variables."
   ]
  },
  {
   "cell_type": "markdown",
   "metadata": {},
   "source": [
    "### Which carriers have the most flights?"
   ]
  },
  {
   "cell_type": "code",
   "execution_count": 7,
   "metadata": {},
   "outputs": [
    {
     "data": {
      "text/plain": [
       "Text(0.5, 1.0, 'Number of Flights by Carrier')"
      ]
     },
     "execution_count": 7,
     "metadata": {},
     "output_type": "execute_result"
    },
    {
     "data": {
      "image/png": "[encoded data removed]",
      "text/plain": [
       "<Figure size 432x288 with 1 Axes>"
      ]
     },
     "metadata": {
      "needs_background": "light"
     },
     "output_type": "display_data"
    }
   ],
   "source": [
    "# Set the order by most flights to least flights\n",
    "carrier_order = df['UniqueCarrier'].value_counts().index\n",
    "\n",
    "# Remove color because this is a univariate exploration\n",
    "base_color = sb.color_palette()[0]\n",
    "\n",
    "# Plot\n",
    "sb.countplot(data=df, x='UniqueCarrier', color=base_color, order=carrier_order)\n",
    "plt.xticks(rotation = 90)\n",
    "plt.xlabel('Carrier')\n",
    "plt.title('Number of Flights by Carrier')"
   ]
  },
  {
   "cell_type": "code",
   "execution_count": 8,
   "metadata": {},
   "outputs": [],
   "source": [
    "southwest = df[df['UniqueCarrier'] == 'WN']\n",
    "american = df[df['UniqueCarrier'] == 'AA']"
   ]
  },
  {
   "cell_type": "code",
   "execution_count": 9,
   "metadata": {},
   "outputs": [
    {
     "data": {
      "text/plain": [
       "0.43277422447503094"
      ]
     },
     "execution_count": 9,
     "metadata": {},
     "output_type": "execute_result"
    }
   ],
   "source": [
    "southwest['UniqueCarrier'].count(),  american['UniqueCarrier'].count()\n",
    "(southwest['UniqueCarrier'].count() - american['UniqueCarrier'].count()) / southwest['UniqueCarrier'].count()"
   ]
  },
  {
   "cell_type": "markdown",
   "metadata": {},
   "source": [
    "Southwest Airlines (code 'WN') has the most flights by far. In fact, they have flown 43% more flights than the second busiest airline, American Airlines (code 'AA'). This is somewhat misleading, however, as Enjoy Air (code MQ) is part of the American Airlines group.\n",
    "\n",
    "Keeping with the __busy__ theme, let's find out which airports have the most flights."
   ]
  },
  {
   "cell_type": "markdown",
   "metadata": {},
   "source": [
    "### Which airports are the busiest?"
   ]
  },
  {
   "cell_type": "code",
   "execution_count": 10,
   "metadata": {},
   "outputs": [
    {
     "data": {
      "text/plain": [
       "Text(0.5, 1.0, 'Number of Flights by Origin Airport')"
      ]
     },
     "execution_count": 10,
     "metadata": {},
     "output_type": "execute_result"
    },
    {
     "data": {
      "image/png": "[encoded data removed]",
      "text/plain": [
       "<Figure size 432x288 with 1 Axes>"
      ]
     },
     "metadata": {
      "needs_background": "light"
     },
     "output_type": "display_data"
    }
   ],
   "source": [
    "# Set the order by most flights to least flights\n",
    "origin_order = df['Origin'].value_counts().index\n",
    "\n",
    "# Remove color because this is a univariate exploration\n",
    "base_color = sb.color_palette()[0]\n",
    "\n",
    "# Plot\n",
    "sb.countplot(data=df, x='Origin', color=base_color, order=origin_order)\n",
    "plt.xticks(rotation = 90)\n",
    "plt.xlabel('Origin')\n",
    "plt.title('Number of Flights by Origin Airport')"
   ]
  },
  {
   "cell_type": "markdown",
   "metadata": {},
   "source": [
    "There are way too many airports to plot something legible, so let's limit to the top 20."
   ]
  },
  {
   "cell_type": "code",
   "execution_count": 11,
   "metadata": {},
   "outputs": [
    {
     "data": {
      "text/plain": [
       "Text(0.5, 1.0, 'Number of Flights by Origin Airport')"
      ]
     },
     "execution_count": 11,
     "metadata": {},
     "output_type": "execute_result"
    },
    {
     "data": {
      "image/png": "[encoded data removed]",
      "text/plain": [
       "<Figure size 432x288 with 1 Axes>"
      ]
     },
     "metadata": {
      "needs_background": "light"
     },
     "output_type": "display_data"
    }
   ],
   "source": [
    "# Set the order by most flights to least flights and limit to top 20\n",
    "origin_order_20 = df['Origin'].value_counts().nlargest(20).index\n",
    "\n",
    "# Remove color because this is a univariate exploration\n",
    "base_color = sb.color_palette()[0]\n",
    "\n",
    "# Plot\n",
    "sb.countplot(data=df, x='Origin', color=base_color, order=origin_order_20)\n",
    "plt.xticks(rotation = 90)\n",
    "plt.xlabel('Origin')\n",
    "plt.title('Number of Flights by Origin Airport')"
   ]
  },
  {
   "cell_type": "markdown",
   "metadata": {},
   "source": [
    "Now we can clearly see the busiest airports in the United States. It is no surprise that Atlanta and Chicago O'Hare are the busiest. I am surpried that Denver is so high. I have been considering a move there, but have been concerned about flight options due to my extensive travel for work. I guess I shouldn't be so worried! In fact, it's much busier than my home airport of Boston. "
   ]
  },
  {
   "cell_type": "markdown",
   "metadata": {},
   "source": [
    "### Which airlines are the worst performing by arrival delay?"
   ]
  },
  {
   "cell_type": "code",
   "execution_count": 12,
   "metadata": {},
   "outputs": [],
   "source": [
    "# Create a dateframe that summarizes data by carrier\n",
    "by_carrier = df.groupby(['UniqueCarrier'], as_index=False)\n",
    "\n",
    "# Get average delay values by carrier\n",
    "avg_delay = by_carrier['CarrierDelay'].mean().sort_values(by='CarrierDelay', ascending=False)\n",
    "\n",
    "# Create a new dataframe for the plot\n",
    "df_delay = pd.DataFrame(avg_delay)"
   ]
  },
  {
   "cell_type": "code",
   "execution_count": 13,
   "metadata": {},
   "outputs": [
    {
     "data": {
      "text/plain": [
       "Text(0.5, 0, 'Carrier')"
      ]
     },
     "execution_count": 13,
     "metadata": {},
     "output_type": "execute_result"
    },
    {
     "data": {
      "image/png": "[encoded data removed]",
      "text/plain": [
       "<Figure size 432x288 with 1 Axes>"
      ]
     },
     "metadata": {
      "needs_background": "light"
     },
     "output_type": "display_data"
    }
   ],
   "source": [
    "# Plot\n",
    "base_color = sb.color_palette()[0]\n",
    "\n",
    "sb.barplot(data=df_delay, x='UniqueCarrier', y='CarrierDelay', color=base_color)\n",
    "plt.xticks(rotation=90)\n",
    "plt.title('Average Arrival Delay by Carrier')\n",
    "plt.xlabel('Carrier')\n"
   ]
  },
  {
   "cell_type": "markdown",
   "metadata": {},
   "source": [
    "We can see that ExpressJet (code EV) is the worse performing airline. They may want to think about changing their name. Southwest Airlines has the best record of the major carriers. My preferred airline, Delta, has a respectable performance. Now let's check out delay by airport."
   ]
  },
  {
   "cell_type": "code",
   "execution_count": 14,
   "metadata": {},
   "outputs": [],
   "source": [
    "# Create a dateframe that summarizes data by airport\n",
    "by_airport = df.groupby(['Origin'], as_index=False)\n",
    "\n",
    "# Get average delay values by airport\n",
    "avg_airport_delay = by_airport['DepDelay'].mean().sort_values(by='DepDelay', ascending=False)\n",
    "\n",
    "# Create a new dataframe for the plot\n",
    "df_airport_delay = pd.DataFrame(avg_airport_delay)"
   ]
  },
  {
   "cell_type": "code",
   "execution_count": 15,
   "metadata": {},
   "outputs": [
    {
     "data": {
      "text/plain": [
       "Text(0.5, 0, 'Airport')"
      ]
     },
     "execution_count": 15,
     "metadata": {},
     "output_type": "execute_result"
    },
    {
     "data": {
      "image/png": "[encoded data removed]",
      "text/plain": [
       "<Figure size 432x288 with 1 Axes>"
      ]
     },
     "metadata": {
      "needs_background": "light"
     },
     "output_type": "display_data"
    }
   ],
   "source": [
    "# Plot\n",
    "base_color = sb.color_palette()[0]\n",
    "\n",
    "sb.barplot(data=df_airport_delay, x='Origin', y='DepDelay', color=base_color)\n",
    "plt.xticks(rotation=90)\n",
    "plt.title('Average Departure Delay by Airport')\n",
    "plt.xlabel('Airport')"
   ]
  },
  {
   "cell_type": "markdown",
   "metadata": {},
   "source": [
    "Similar to the previous airport plot, there are just too many airports included for this to be legible. Let's limit again to the top 20 airports."
   ]
  },
  {
   "cell_type": "code",
   "execution_count": 16,
   "metadata": {},
   "outputs": [
    {
     "data": {
      "text/plain": [
       "Text(0.5, 0, 'Airport')"
      ]
     },
     "execution_count": 16,
     "metadata": {},
     "output_type": "execute_result"
    },
    {
     "data": {
      "image/png": "[encoded data removed]",
      "text/plain": [
       "<Figure size 432x288 with 1 Axes>"
      ]
     },
     "metadata": {
      "needs_background": "light"
     },
     "output_type": "display_data"
    }
   ],
   "source": [
    "# Create a new dataframe for the plot that limits to the 20 worst airports\n",
    "df_airport_delay_top_20 = pd.DataFrame(avg_airport_delay).nlargest(20, 'DepDelay')\n",
    "\n",
    "# Plot\n",
    "base_color = sb.color_palette()[0]\n",
    "\n",
    "sb.barplot(data=df_airport_delay_top_20, x='Origin', y='DepDelay', color=base_color)\n",
    "plt.xticks(rotation=90)\n",
    "plt.title('Average Departure Delay by Airport')\n",
    "plt.xlabel('Airport')"
   ]
  },
  {
   "cell_type": "markdown",
   "metadata": {},
   "source": [
    "We can see that there are a few outliers: Ogden-Hinkley Airport, Cheyenne Regional Airport, North Central West Virgina Airport. These are by far the worst performing airports by departure delay. What about the best airports? "
   ]
  },
  {
   "cell_type": "code",
   "execution_count": 17,
   "metadata": {},
   "outputs": [
    {
     "data": {
      "text/plain": [
       "Text(0.5, 0, 'Airport')"
      ]
     },
     "execution_count": 17,
     "metadata": {},
     "output_type": "execute_result"
    },
    {
     "data": {
      "image/png": "[encoded data removed]",
      "text/plain": [
       "<Figure size 432x288 with 1 Axes>"
      ]
     },
     "metadata": {
      "needs_background": "light"
     },
     "output_type": "display_data"
    }
   ],
   "source": [
    "# Create a new dataframe for the plot that limits to the 20 best airports\n",
    "df_airport_delay_top_20_best = pd.DataFrame(avg_airport_delay).nsmallest(20, 'DepDelay')\n",
    "\n",
    "# Plot\n",
    "base_color = sb.color_palette()[0]\n",
    "\n",
    "sb.barplot(data=df_airport_delay_top_20_best, x='Origin', y='DepDelay', color=base_color)\n",
    "plt.xticks(rotation=90)\n",
    "plt.title('Average Departure Delay by Airport')\n",
    "plt.xlabel('Airport')"
   ]
  },
  {
   "cell_type": "markdown",
   "metadata": {},
   "source": [
    "How interesting! There are some airports that average an __early__ departure. I would not count that as better. On-time is what we are after. So the best performing airport with the lowest departure delay are Oxnard Airport and Great Falls International Airport with an average delay of 0 minutes."
   ]
  },
  {
   "cell_type": "markdown",
   "metadata": {},
   "source": [
    "# Plots\n",
    "* Airport delay by type of delay\n",
    "* Delay by code\n",
    "* Seasonality - by destination\n",
    "* Create delay severity by time delayed - bivariate \n",
    "* Bucket into Winter, Spring, Summer, Fall"
   ]
  },
  {
   "cell_type": "markdown",
   "metadata": {},
   "source": [
    "## Bivariate Exploration"
   ]
  },
  {
   "cell_type": "markdown",
   "metadata": {},
   "source": [
    "Let's see how things playout across busy and slow airports. First, let's define busy and slow airports. We'll use descriptive statistics to set four broad categories. "
   ]
  },
  {
   "cell_type": "code",
   "execution_count": 18,
   "metadata": {},
   "outputs": [],
   "source": [
    "airport_flights = df['Origin'].value_counts()\n",
    "df_airport_flights = pd.DataFrame(airport_flights)"
   ]
  },
  {
   "cell_type": "code",
   "execution_count": 19,
   "metadata": {},
   "outputs": [
    {
     "data": {
      "text/html": [
       "<div>\n",
       "<style scoped>\n",
       "    .dataframe tbody tr th:only-of-type {\n",
       "        vertical-align: middle;\n",
       "    }\n",
       "\n",
       "    .dataframe tbody tr th {\n",
       "        vertical-align: top;\n",
       "    }\n",
       "\n",
       "    .dataframe thead th {\n",
       "        text-align: right;\n",
       "    }\n",
       "</style>\n",
       "<table border=\"1\" class=\"dataframe\">\n",
       "  <thead>\n",
       "    <tr style=\"text-align: right;\">\n",
       "      <th></th>\n",
       "      <th>Origin</th>\n",
       "    </tr>\n",
       "  </thead>\n",
       "  <tbody>\n",
       "    <tr>\n",
       "      <th>ATL</th>\n",
       "      <td>1670013</td>\n",
       "    </tr>\n",
       "    <tr>\n",
       "      <th>ORD</th>\n",
       "      <td>1437608</td>\n",
       "    </tr>\n",
       "    <tr>\n",
       "      <th>DFW</th>\n",
       "      <td>1187467</td>\n",
       "    </tr>\n",
       "    <tr>\n",
       "      <th>LAX</th>\n",
       "      <td>917857</td>\n",
       "    </tr>\n",
       "    <tr>\n",
       "      <th>DEN</th>\n",
       "      <td>897696</td>\n",
       "    </tr>\n",
       "  </tbody>\n",
       "</table>\n",
       "</div>"
      ],
      "text/plain": [
       "      Origin\n",
       "ATL  1670013\n",
       "ORD  1437608\n",
       "DFW  1187467\n",
       "LAX   917857\n",
       "DEN   897696"
      ]
     },
     "execution_count": 19,
     "metadata": {},
     "output_type": "execute_result"
    }
   ],
   "source": [
    "df_airport_flights.head()"
   ]
  },
  {
   "cell_type": "code",
   "execution_count": 20,
   "metadata": {},
   "outputs": [
    {
     "data": {
      "text/html": [
       "<div>\n",
       "<style scoped>\n",
       "    .dataframe tbody tr th:only-of-type {\n",
       "        vertical-align: middle;\n",
       "    }\n",
       "\n",
       "    .dataframe tbody tr th {\n",
       "        vertical-align: top;\n",
       "    }\n",
       "\n",
       "    .dataframe thead th {\n",
       "        text-align: right;\n",
       "    }\n",
       "</style>\n",
       "<table border=\"1\" class=\"dataframe\">\n",
       "  <thead>\n",
       "    <tr style=\"text-align: right;\">\n",
       "      <th></th>\n",
       "      <th>Origin</th>\n",
       "    </tr>\n",
       "  </thead>\n",
       "  <tbody>\n",
       "    <tr>\n",
       "      <th>count</th>\n",
       "      <td>3.210000e+02</td>\n",
       "    </tr>\n",
       "    <tr>\n",
       "      <th>mean</th>\n",
       "      <td>8.954972e+04</td>\n",
       "    </tr>\n",
       "    <tr>\n",
       "      <th>std</th>\n",
       "      <td>2.023321e+05</td>\n",
       "    </tr>\n",
       "    <tr>\n",
       "      <th>min</th>\n",
       "      <td>1.000000e+00</td>\n",
       "    </tr>\n",
       "    <tr>\n",
       "      <th>25%</th>\n",
       "      <td>4.208000e+03</td>\n",
       "    </tr>\n",
       "    <tr>\n",
       "      <th>50%</th>\n",
       "      <td>1.475600e+04</td>\n",
       "    </tr>\n",
       "    <tr>\n",
       "      <th>75%</th>\n",
       "      <td>5.954500e+04</td>\n",
       "    </tr>\n",
       "    <tr>\n",
       "      <th>max</th>\n",
       "      <td>1.670013e+06</td>\n",
       "    </tr>\n",
       "  </tbody>\n",
       "</table>\n",
       "</div>"
      ],
      "text/plain": [
       "             Origin\n",
       "count  3.210000e+02\n",
       "mean   8.954972e+04\n",
       "std    2.023321e+05\n",
       "min    1.000000e+00\n",
       "25%    4.208000e+03\n",
       "50%    1.475600e+04\n",
       "75%    5.954500e+04\n",
       "max    1.670013e+06"
      ]
     },
     "execution_count": 20,
     "metadata": {},
     "output_type": "execute_result"
    }
   ],
   "source": [
    "df_airport_flights.describe()"
   ]
  },
  {
   "cell_type": "code",
   "execution_count": 21,
   "metadata": {},
   "outputs": [],
   "source": [
    "# Define a function to populate a new column that define each airport across a category\n",
    "def f(row):\n",
    "    if float(row['Origin']) > 59545:\n",
    "        val = 'Very Busy'\n",
    "    elif float(row['Origin']) <= 59545 & row['Origin'] > 14756:\n",
    "        val = 'Busy'\n",
    "    elif float(row['Origin']) <= 14756 & row['Origin'] > 4208:\n",
    "        val = 'Slow'\n",
    "    else:\n",
    "        val = 'Very Slow'\n",
    "    return val"
   ]
  },
  {
   "cell_type": "code",
   "execution_count": 22,
   "metadata": {},
   "outputs": [],
   "source": [
    "# Add the calculated string values to a new dataframe\n",
    "df_airport_flights['AirportTraffic'] = df_airport_flights.apply(f, axis=1)"
   ]
  },
  {
   "cell_type": "code",
   "execution_count": 23,
   "metadata": {},
   "outputs": [
    {
     "data": {
      "text/html": [
       "<div>\n",
       "<style scoped>\n",
       "    .dataframe tbody tr th:only-of-type {\n",
       "        vertical-align: middle;\n",
       "    }\n",
       "\n",
       "    .dataframe tbody tr th {\n",
       "        vertical-align: top;\n",
       "    }\n",
       "\n",
       "    .dataframe thead th {\n",
       "        text-align: right;\n",
       "    }\n",
       "</style>\n",
       "<table border=\"1\" class=\"dataframe\">\n",
       "  <thead>\n",
       "    <tr style=\"text-align: right;\">\n",
       "      <th></th>\n",
       "      <th>Origin</th>\n",
       "      <th>AirportTraffic</th>\n",
       "    </tr>\n",
       "  </thead>\n",
       "  <tbody>\n",
       "    <tr>\n",
       "      <th>ATL</th>\n",
       "      <td>1670013</td>\n",
       "      <td>Very Busy</td>\n",
       "    </tr>\n",
       "    <tr>\n",
       "      <th>ORD</th>\n",
       "      <td>1437608</td>\n",
       "      <td>Very Busy</td>\n",
       "    </tr>\n",
       "    <tr>\n",
       "      <th>DFW</th>\n",
       "      <td>1187467</td>\n",
       "      <td>Very Busy</td>\n",
       "    </tr>\n",
       "    <tr>\n",
       "      <th>LAX</th>\n",
       "      <td>917857</td>\n",
       "      <td>Very Busy</td>\n",
       "    </tr>\n",
       "    <tr>\n",
       "      <th>DEN</th>\n",
       "      <td>897696</td>\n",
       "      <td>Very Busy</td>\n",
       "    </tr>\n",
       "  </tbody>\n",
       "</table>\n",
       "</div>"
      ],
      "text/plain": [
       "      Origin AirportTraffic\n",
       "ATL  1670013      Very Busy\n",
       "ORD  1437608      Very Busy\n",
       "DFW  1187467      Very Busy\n",
       "LAX   917857      Very Busy\n",
       "DEN   897696      Very Busy"
      ]
     },
     "execution_count": 23,
     "metadata": {},
     "output_type": "execute_result"
    }
   ],
   "source": [
    "df_airport_flights.head()"
   ]
  },
  {
   "cell_type": "code",
   "execution_count": 24,
   "metadata": {},
   "outputs": [
    {
     "data": {
      "text/html": [
       "<div>\n",
       "<style scoped>\n",
       "    .dataframe tbody tr th:only-of-type {\n",
       "        vertical-align: middle;\n",
       "    }\n",
       "\n",
       "    .dataframe tbody tr th {\n",
       "        vertical-align: top;\n",
       "    }\n",
       "\n",
       "    .dataframe thead th {\n",
       "        text-align: right;\n",
       "    }\n",
       "</style>\n",
       "<table border=\"1\" class=\"dataframe\">\n",
       "  <thead>\n",
       "    <tr style=\"text-align: right;\">\n",
       "      <th></th>\n",
       "      <th>index</th>\n",
       "      <th>Origin</th>\n",
       "      <th>AirportTraffic</th>\n",
       "    </tr>\n",
       "  </thead>\n",
       "  <tbody>\n",
       "    <tr>\n",
       "      <th>0</th>\n",
       "      <td>ATL</td>\n",
       "      <td>1670013</td>\n",
       "      <td>Very Busy</td>\n",
       "    </tr>\n",
       "    <tr>\n",
       "      <th>1</th>\n",
       "      <td>ORD</td>\n",
       "      <td>1437608</td>\n",
       "      <td>Very Busy</td>\n",
       "    </tr>\n",
       "    <tr>\n",
       "      <th>2</th>\n",
       "      <td>DFW</td>\n",
       "      <td>1187467</td>\n",
       "      <td>Very Busy</td>\n",
       "    </tr>\n",
       "    <tr>\n",
       "      <th>3</th>\n",
       "      <td>LAX</td>\n",
       "      <td>917857</td>\n",
       "      <td>Very Busy</td>\n",
       "    </tr>\n",
       "    <tr>\n",
       "      <th>4</th>\n",
       "      <td>DEN</td>\n",
       "      <td>897696</td>\n",
       "      <td>Very Busy</td>\n",
       "    </tr>\n",
       "  </tbody>\n",
       "</table>\n",
       "</div>"
      ],
      "text/plain": [
       "  index   Origin AirportTraffic\n",
       "0   ATL  1670013      Very Busy\n",
       "1   ORD  1437608      Very Busy\n",
       "2   DFW  1187467      Very Busy\n",
       "3   LAX   917857      Very Busy\n",
       "4   DEN   897696      Very Busy"
      ]
     },
     "execution_count": 24,
     "metadata": {},
     "output_type": "execute_result"
    }
   ],
   "source": [
    "# Reset the index so I can merge the two dataframes on 'Origin'\n",
    "df_airport_flights.reset_index(inplace=True)\n",
    "df_airport_flights.head()"
   ]
  },
  {
   "cell_type": "code",
   "execution_count": 25,
   "metadata": {},
   "outputs": [
    {
     "data": {
      "text/html": [
       "<div>\n",
       "<style scoped>\n",
       "    .dataframe tbody tr th:only-of-type {\n",
       "        vertical-align: middle;\n",
       "    }\n",
       "\n",
       "    .dataframe tbody tr th {\n",
       "        vertical-align: top;\n",
       "    }\n",
       "\n",
       "    .dataframe thead th {\n",
       "        text-align: right;\n",
       "    }\n",
       "</style>\n",
       "<table border=\"1\" class=\"dataframe\">\n",
       "  <thead>\n",
       "    <tr style=\"text-align: right;\">\n",
       "      <th></th>\n",
       "      <th>Origin</th>\n",
       "      <th>TotalFlights</th>\n",
       "      <th>AirportTraffic</th>\n",
       "    </tr>\n",
       "  </thead>\n",
       "  <tbody>\n",
       "    <tr>\n",
       "      <th>0</th>\n",
       "      <td>ATL</td>\n",
       "      <td>1670013</td>\n",
       "      <td>Very Busy</td>\n",
       "    </tr>\n",
       "    <tr>\n",
       "      <th>1</th>\n",
       "      <td>ORD</td>\n",
       "      <td>1437608</td>\n",
       "      <td>Very Busy</td>\n",
       "    </tr>\n",
       "    <tr>\n",
       "      <th>2</th>\n",
       "      <td>DFW</td>\n",
       "      <td>1187467</td>\n",
       "      <td>Very Busy</td>\n",
       "    </tr>\n",
       "    <tr>\n",
       "      <th>3</th>\n",
       "      <td>LAX</td>\n",
       "      <td>917857</td>\n",
       "      <td>Very Busy</td>\n",
       "    </tr>\n",
       "    <tr>\n",
       "      <th>4</th>\n",
       "      <td>DEN</td>\n",
       "      <td>897696</td>\n",
       "      <td>Very Busy</td>\n",
       "    </tr>\n",
       "  </tbody>\n",
       "</table>\n",
       "</div>"
      ],
      "text/plain": [
       "  Origin  TotalFlights AirportTraffic\n",
       "0    ATL       1670013      Very Busy\n",
       "1    ORD       1437608      Very Busy\n",
       "2    DFW       1187467      Very Busy\n",
       "3    LAX        917857      Very Busy\n",
       "4    DEN        897696      Very Busy"
      ]
     },
     "execution_count": 25,
     "metadata": {},
     "output_type": "execute_result"
    }
   ],
   "source": [
    "# Rename columns\n",
    "df_airport_flights.rename(columns={'index': 'Origin', 'Origin': 'TotalFlights'}, inplace=True)\n",
    "df_airport_flights.head()"
   ]
  },
  {
   "cell_type": "code",
   "execution_count": 26,
   "metadata": {},
   "outputs": [],
   "source": [
    "# Let's merge these dataframes so I can do an analysis that groups \n",
    "# airports by traffic volume\n",
    "\n",
    "df_merge = df.merge(df_airport_flights, on='Origin', how='left')"
   ]
  },
  {
   "cell_type": "code",
   "execution_count": 27,
   "metadata": {},
   "outputs": [
    {
     "data": {
      "text/html": [
       "<div>\n",
       "<style scoped>\n",
       "    .dataframe tbody tr th:only-of-type {\n",
       "        vertical-align: middle;\n",
       "    }\n",
       "\n",
       "    .dataframe tbody tr th {\n",
       "        vertical-align: top;\n",
       "    }\n",
       "\n",
       "    .dataframe thead th {\n",
       "        text-align: right;\n",
       "    }\n",
       "</style>\n",
       "<table border=\"1\" class=\"dataframe\">\n",
       "  <thead>\n",
       "    <tr style=\"text-align: right;\">\n",
       "      <th></th>\n",
       "      <th>Year</th>\n",
       "      <th>Month</th>\n",
       "      <th>DayofMonth</th>\n",
       "      <th>DayOfWeek</th>\n",
       "      <th>DepTime</th>\n",
       "      <th>CRSDepTime</th>\n",
       "      <th>ArrTime</th>\n",
       "      <th>CRSArrTime</th>\n",
       "      <th>UniqueCarrier</th>\n",
       "      <th>FlightNum</th>\n",
       "      <th>...</th>\n",
       "      <th>Cancelled</th>\n",
       "      <th>CancellationCode</th>\n",
       "      <th>Diverted</th>\n",
       "      <th>CarrierDelay</th>\n",
       "      <th>WeatherDelay</th>\n",
       "      <th>NASDelay</th>\n",
       "      <th>SecurityDelay</th>\n",
       "      <th>LateAircraftDelay</th>\n",
       "      <th>TotalFlights</th>\n",
       "      <th>AirportTraffic</th>\n",
       "    </tr>\n",
       "  </thead>\n",
       "  <tbody>\n",
       "    <tr>\n",
       "      <th>0</th>\n",
       "      <td>2005</td>\n",
       "      <td>1</td>\n",
       "      <td>28</td>\n",
       "      <td>5</td>\n",
       "      <td>1603.0</td>\n",
       "      <td>1605</td>\n",
       "      <td>1741.0</td>\n",
       "      <td>1759</td>\n",
       "      <td>UA</td>\n",
       "      <td>541</td>\n",
       "      <td>...</td>\n",
       "      <td>0</td>\n",
       "      <td>NaN</td>\n",
       "      <td>0</td>\n",
       "      <td>0.0</td>\n",
       "      <td>0.0</td>\n",
       "      <td>0.0</td>\n",
       "      <td>0.0</td>\n",
       "      <td>0.0</td>\n",
       "      <td>505291</td>\n",
       "      <td>Very Busy</td>\n",
       "    </tr>\n",
       "    <tr>\n",
       "      <th>1</th>\n",
       "      <td>2005</td>\n",
       "      <td>1</td>\n",
       "      <td>29</td>\n",
       "      <td>6</td>\n",
       "      <td>1559.0</td>\n",
       "      <td>1605</td>\n",
       "      <td>1736.0</td>\n",
       "      <td>1759</td>\n",
       "      <td>UA</td>\n",
       "      <td>541</td>\n",
       "      <td>...</td>\n",
       "      <td>0</td>\n",
       "      <td>NaN</td>\n",
       "      <td>0</td>\n",
       "      <td>0.0</td>\n",
       "      <td>0.0</td>\n",
       "      <td>0.0</td>\n",
       "      <td>0.0</td>\n",
       "      <td>0.0</td>\n",
       "      <td>505291</td>\n",
       "      <td>Very Busy</td>\n",
       "    </tr>\n",
       "    <tr>\n",
       "      <th>2</th>\n",
       "      <td>2005</td>\n",
       "      <td>1</td>\n",
       "      <td>30</td>\n",
       "      <td>7</td>\n",
       "      <td>1603.0</td>\n",
       "      <td>1610</td>\n",
       "      <td>1741.0</td>\n",
       "      <td>1805</td>\n",
       "      <td>UA</td>\n",
       "      <td>541</td>\n",
       "      <td>...</td>\n",
       "      <td>0</td>\n",
       "      <td>NaN</td>\n",
       "      <td>0</td>\n",
       "      <td>0.0</td>\n",
       "      <td>0.0</td>\n",
       "      <td>0.0</td>\n",
       "      <td>0.0</td>\n",
       "      <td>0.0</td>\n",
       "      <td>505291</td>\n",
       "      <td>Very Busy</td>\n",
       "    </tr>\n",
       "    <tr>\n",
       "      <th>3</th>\n",
       "      <td>2005</td>\n",
       "      <td>1</td>\n",
       "      <td>31</td>\n",
       "      <td>1</td>\n",
       "      <td>1556.0</td>\n",
       "      <td>1605</td>\n",
       "      <td>1726.0</td>\n",
       "      <td>1759</td>\n",
       "      <td>UA</td>\n",
       "      <td>541</td>\n",
       "      <td>...</td>\n",
       "      <td>0</td>\n",
       "      <td>NaN</td>\n",
       "      <td>0</td>\n",
       "      <td>0.0</td>\n",
       "      <td>0.0</td>\n",
       "      <td>0.0</td>\n",
       "      <td>0.0</td>\n",
       "      <td>0.0</td>\n",
       "      <td>505291</td>\n",
       "      <td>Very Busy</td>\n",
       "    </tr>\n",
       "    <tr>\n",
       "      <th>4</th>\n",
       "      <td>2005</td>\n",
       "      <td>1</td>\n",
       "      <td>2</td>\n",
       "      <td>7</td>\n",
       "      <td>1934.0</td>\n",
       "      <td>1900</td>\n",
       "      <td>2235.0</td>\n",
       "      <td>2232</td>\n",
       "      <td>UA</td>\n",
       "      <td>542</td>\n",
       "      <td>...</td>\n",
       "      <td>0</td>\n",
       "      <td>NaN</td>\n",
       "      <td>0</td>\n",
       "      <td>0.0</td>\n",
       "      <td>0.0</td>\n",
       "      <td>0.0</td>\n",
       "      <td>0.0</td>\n",
       "      <td>0.0</td>\n",
       "      <td>1437608</td>\n",
       "      <td>Very Busy</td>\n",
       "    </tr>\n",
       "  </tbody>\n",
       "</table>\n",
       "<p>5 rows × 31 columns</p>\n",
       "</div>"
      ],
      "text/plain": [
       "   Year  Month  DayofMonth  DayOfWeek  DepTime  CRSDepTime  ArrTime  \\\n",
       "0  2005      1          28          5   1603.0        1605   1741.0   \n",
       "1  2005      1          29          6   1559.0        1605   1736.0   \n",
       "2  2005      1          30          7   1603.0        1610   1741.0   \n",
       "3  2005      1          31          1   1556.0        1605   1726.0   \n",
       "4  2005      1           2          7   1934.0        1900   2235.0   \n",
       "\n",
       "   CRSArrTime UniqueCarrier  FlightNum       ...       Cancelled  \\\n",
       "0        1759            UA        541       ...               0   \n",
       "1        1759            UA        541       ...               0   \n",
       "2        1805            UA        541       ...               0   \n",
       "3        1759            UA        541       ...               0   \n",
       "4        2232            UA        542       ...               0   \n",
       "\n",
       "   CancellationCode  Diverted  CarrierDelay  WeatherDelay  NASDelay  \\\n",
       "0               NaN         0           0.0           0.0       0.0   \n",
       "1               NaN         0           0.0           0.0       0.0   \n",
       "2               NaN         0           0.0           0.0       0.0   \n",
       "3               NaN         0           0.0           0.0       0.0   \n",
       "4               NaN         0           0.0           0.0       0.0   \n",
       "\n",
       "  SecurityDelay LateAircraftDelay  TotalFlights  AirportTraffic  \n",
       "0           0.0               0.0        505291       Very Busy  \n",
       "1           0.0               0.0        505291       Very Busy  \n",
       "2           0.0               0.0        505291       Very Busy  \n",
       "3           0.0               0.0        505291       Very Busy  \n",
       "4           0.0               0.0       1437608       Very Busy  \n",
       "\n",
       "[5 rows x 31 columns]"
      ]
     },
     "execution_count": 27,
     "metadata": {},
     "output_type": "execute_result"
    }
   ],
   "source": [
    "df_merge.head()"
   ]
  },
  {
   "cell_type": "code",
   "execution_count": 28,
   "metadata": {},
   "outputs": [
    {
     "data": {
      "text/plain": [
       "<matplotlib.axes._subplots.AxesSubplot at 0x1a2ebc14a8>"
      ]
     },
     "execution_count": 28,
     "metadata": {},
     "output_type": "execute_result"
    },
    {
     "data": {
      "image/png": "[encoded data removed]",
      "text/plain": [
       "<Figure size 432x288 with 1 Axes>"
      ]
     },
     "metadata": {
      "needs_background": "light"
     },
     "output_type": "display_data"
    }
   ],
   "source": [
    "# Plot boxplot\n",
    "\n",
    "traffic_classes = ['Very Busy', 'Busy', 'Slow', 'Very Slow']\n",
    "tclasses = pd.api.types.CategoricalDtype(ordered=True, categories=traffic_classes)\n",
    "df_merge['AirportTraffic'] = df_merge['AirportTraffic'].astype(tclasses); \n",
    "sb.boxplot(data=df_merge, x='AirportTraffic', y='DepDelay')\n"
   ]
  },
  {
   "cell_type": "markdown",
   "metadata": {},
   "source": [
    "While this boxplot is hard to read because of so many outliers, it does clearly indicate that 'Slow' airports have the most stability when it comes to departure delays, while 'Very Busy' airports have the most volatility. Surprisingly, 'Very Slow' airports are also quite volatile. I would expect that fewer flights would make operations more simple - and therefore - successful, but that does not appear to be the case. \n",
    "\n",
    "Let's now get rid of the outliers."
   ]
  },
  {
   "cell_type": "code",
   "execution_count": 29,
   "metadata": {},
   "outputs": [
    {
     "data": {
      "text/plain": [
       "<matplotlib.axes._subplots.AxesSubplot at 0x1a2ba24160>"
      ]
     },
     "execution_count": 29,
     "metadata": {},
     "output_type": "execute_result"
    },
    {
     "data": {
      "image/png": "[encoded data removed]",
      "text/plain": [
       "<Figure size 432x288 with 1 Axes>"
      ]
     },
     "metadata": {
      "needs_background": "light"
     },
     "output_type": "display_data"
    }
   ],
   "source": [
    "# Let's get rid of the outliers\n",
    "\n",
    "traffic_classes = ['Very Busy', 'Busy', 'Slow', 'Very Slow']\n",
    "tclasses = pd.api.types.CategoricalDtype(ordered=True, categories=traffic_classes)\n",
    "df_merge['AirportTraffic'] = df_merge['AirportTraffic'].astype(tclasses); \n",
    "sb.boxplot(data=df_merge, x='AirportTraffic', y='DepDelay', showfliers=False)"
   ]
  },
  {
   "cell_type": "markdown",
   "metadata": {},
   "source": [
    "It is now clear that the mean departure delay is nearly identical across all types of airports. However, different from the previous plot, 'Busy' airports appear to have the most stability. "
   ]
  },
  {
   "cell_type": "markdown",
   "metadata": {},
   "source": [
    "Now let's take a look at cancellations and their cause at the busiest airports."
   ]
  },
  {
   "cell_type": "code",
   "execution_count": 30,
   "metadata": {},
   "outputs": [],
   "source": [
    "# Which airports have the most cancellations?\n",
    "total_cancellations = by_airport['Cancelled'].sum()\n",
    "most_cancellations = total_cancellations.nlargest(10, columns='Cancelled')"
   ]
  },
  {
   "cell_type": "code",
   "execution_count": 31,
   "metadata": {},
   "outputs": [
    {
     "data": {
      "text/plain": [
       "Text(0.5, 0, 'Airport')"
      ]
     },
     "execution_count": 31,
     "metadata": {},
     "output_type": "execute_result"
    },
    {
     "data": {
      "image/png": "[encoded data removed]",
      "text/plain": [
       "<Figure size 432x288 with 1 Axes>"
      ]
     },
     "metadata": {
      "needs_background": "light"
     },
     "output_type": "display_data"
    }
   ],
   "source": [
    "# Plot\n",
    "\n",
    "base_color = sb.color_palette()[0]\n",
    "\n",
    "sb.barplot(data=most_cancellations, x='Origin', y='Cancelled', color=base_color)\n",
    "plt.xticks(rotation=90)\n",
    "plt.title('Airports with the Most Cancellations')\n",
    "plt.xlabel('Airport')"
   ]
  },
  {
   "cell_type": "markdown",
   "metadata": {},
   "source": [
    "We can see that ORD is NOT an airport you would ever want to fly through with the largest number of cancellations by FAR! Yikes.... Again, my home airport of Boston is worse than Denver, so I shouldn't worry about moving there!\n",
    "\n",
    "Now let's look at the cancellations by code to see what causes them."
   ]
  },
  {
   "cell_type": "code",
   "execution_count": 32,
   "metadata": {},
   "outputs": [],
   "source": [
    "# Capture the worse ten airports\n",
    "worst_ten = ['ORD', 'ATL', 'DFW', 'LGA', 'EWR', 'BOS', 'DEN', 'LAX', 'DCA', 'JFK']"
   ]
  },
  {
   "cell_type": "code",
   "execution_count": 33,
   "metadata": {},
   "outputs": [
    {
     "data": {
      "text/html": [
       "<div>\n",
       "<style scoped>\n",
       "    .dataframe tbody tr th:only-of-type {\n",
       "        vertical-align: middle;\n",
       "    }\n",
       "\n",
       "    .dataframe tbody tr th {\n",
       "        vertical-align: top;\n",
       "    }\n",
       "\n",
       "    .dataframe thead th {\n",
       "        text-align: right;\n",
       "    }\n",
       "</style>\n",
       "<table border=\"1\" class=\"dataframe\">\n",
       "  <thead>\n",
       "    <tr style=\"text-align: right;\">\n",
       "      <th></th>\n",
       "      <th>Origin</th>\n",
       "      <th>CancellationCode</th>\n",
       "      <th>count</th>\n",
       "    </tr>\n",
       "  </thead>\n",
       "  <tbody>\n",
       "    <tr>\n",
       "      <th>60</th>\n",
       "      <td>ATL</td>\n",
       "      <td>A</td>\n",
       "      <td>14200</td>\n",
       "    </tr>\n",
       "    <tr>\n",
       "      <th>61</th>\n",
       "      <td>ATL</td>\n",
       "      <td>B</td>\n",
       "      <td>11682</td>\n",
       "    </tr>\n",
       "    <tr>\n",
       "      <th>62</th>\n",
       "      <td>ATL</td>\n",
       "      <td>C</td>\n",
       "      <td>7181</td>\n",
       "    </tr>\n",
       "    <tr>\n",
       "      <th>63</th>\n",
       "      <td>ATL</td>\n",
       "      <td>D</td>\n",
       "      <td>23</td>\n",
       "    </tr>\n",
       "    <tr>\n",
       "      <th>122</th>\n",
       "      <td>BOS</td>\n",
       "      <td>A</td>\n",
       "      <td>6239</td>\n",
       "    </tr>\n",
       "    <tr>\n",
       "      <th>123</th>\n",
       "      <td>BOS</td>\n",
       "      <td>B</td>\n",
       "      <td>6270</td>\n",
       "    </tr>\n",
       "    <tr>\n",
       "      <th>124</th>\n",
       "      <td>BOS</td>\n",
       "      <td>C</td>\n",
       "      <td>3075</td>\n",
       "    </tr>\n",
       "    <tr>\n",
       "      <th>125</th>\n",
       "      <td>BOS</td>\n",
       "      <td>D</td>\n",
       "      <td>4</td>\n",
       "    </tr>\n",
       "    <tr>\n",
       "      <th>262</th>\n",
       "      <td>DCA</td>\n",
       "      <td>A</td>\n",
       "      <td>4914</td>\n",
       "    </tr>\n",
       "    <tr>\n",
       "      <th>263</th>\n",
       "      <td>DCA</td>\n",
       "      <td>B</td>\n",
       "      <td>4049</td>\n",
       "    </tr>\n",
       "    <tr>\n",
       "      <th>264</th>\n",
       "      <td>DCA</td>\n",
       "      <td>C</td>\n",
       "      <td>2403</td>\n",
       "    </tr>\n",
       "    <tr>\n",
       "      <th>265</th>\n",
       "      <td>DCA</td>\n",
       "      <td>D</td>\n",
       "      <td>1</td>\n",
       "    </tr>\n",
       "    <tr>\n",
       "      <th>266</th>\n",
       "      <td>DEN</td>\n",
       "      <td>A</td>\n",
       "      <td>5966</td>\n",
       "    </tr>\n",
       "    <tr>\n",
       "      <th>267</th>\n",
       "      <td>DEN</td>\n",
       "      <td>B</td>\n",
       "      <td>6260</td>\n",
       "    </tr>\n",
       "    <tr>\n",
       "      <th>268</th>\n",
       "      <td>DEN</td>\n",
       "      <td>C</td>\n",
       "      <td>690</td>\n",
       "    </tr>\n",
       "    <tr>\n",
       "      <th>269</th>\n",
       "      <td>DEN</td>\n",
       "      <td>D</td>\n",
       "      <td>2</td>\n",
       "    </tr>\n",
       "    <tr>\n",
       "      <th>270</th>\n",
       "      <td>DFW</td>\n",
       "      <td>A</td>\n",
       "      <td>10083</td>\n",
       "    </tr>\n",
       "    <tr>\n",
       "      <th>271</th>\n",
       "      <td>DFW</td>\n",
       "      <td>B</td>\n",
       "      <td>13566</td>\n",
       "    </tr>\n",
       "    <tr>\n",
       "      <th>272</th>\n",
       "      <td>DFW</td>\n",
       "      <td>C</td>\n",
       "      <td>2634</td>\n",
       "    </tr>\n",
       "    <tr>\n",
       "      <th>273</th>\n",
       "      <td>DFW</td>\n",
       "      <td>D</td>\n",
       "      <td>3</td>\n",
       "    </tr>\n",
       "    <tr>\n",
       "      <th>321</th>\n",
       "      <td>EWR</td>\n",
       "      <td>A</td>\n",
       "      <td>3280</td>\n",
       "    </tr>\n",
       "    <tr>\n",
       "      <th>322</th>\n",
       "      <td>EWR</td>\n",
       "      <td>B</td>\n",
       "      <td>6779</td>\n",
       "    </tr>\n",
       "    <tr>\n",
       "      <th>323</th>\n",
       "      <td>EWR</td>\n",
       "      <td>C</td>\n",
       "      <td>9557</td>\n",
       "    </tr>\n",
       "    <tr>\n",
       "      <th>510</th>\n",
       "      <td>JFK</td>\n",
       "      <td>A</td>\n",
       "      <td>3721</td>\n",
       "    </tr>\n",
       "    <tr>\n",
       "      <th>511</th>\n",
       "      <td>JFK</td>\n",
       "      <td>B</td>\n",
       "      <td>6248</td>\n",
       "    </tr>\n",
       "    <tr>\n",
       "      <th>512</th>\n",
       "      <td>JFK</td>\n",
       "      <td>C</td>\n",
       "      <td>1164</td>\n",
       "    </tr>\n",
       "    <tr>\n",
       "      <th>513</th>\n",
       "      <td>JFK</td>\n",
       "      <td>D</td>\n",
       "      <td>9</td>\n",
       "    </tr>\n",
       "    <tr>\n",
       "      <th>532</th>\n",
       "      <td>LAX</td>\n",
       "      <td>A</td>\n",
       "      <td>8172</td>\n",
       "    </tr>\n",
       "    <tr>\n",
       "      <th>533</th>\n",
       "      <td>LAX</td>\n",
       "      <td>B</td>\n",
       "      <td>2448</td>\n",
       "    </tr>\n",
       "    <tr>\n",
       "      <th>534</th>\n",
       "      <td>LAX</td>\n",
       "      <td>C</td>\n",
       "      <td>875</td>\n",
       "    </tr>\n",
       "    <tr>\n",
       "      <th>535</th>\n",
       "      <td>LAX</td>\n",
       "      <td>D</td>\n",
       "      <td>9</td>\n",
       "    </tr>\n",
       "    <tr>\n",
       "      <th>552</th>\n",
       "      <td>LGA</td>\n",
       "      <td>A</td>\n",
       "      <td>7471</td>\n",
       "    </tr>\n",
       "    <tr>\n",
       "      <th>553</th>\n",
       "      <td>LGA</td>\n",
       "      <td>B</td>\n",
       "      <td>8279</td>\n",
       "    </tr>\n",
       "    <tr>\n",
       "      <th>554</th>\n",
       "      <td>LGA</td>\n",
       "      <td>C</td>\n",
       "      <td>6190</td>\n",
       "    </tr>\n",
       "    <tr>\n",
       "      <th>555</th>\n",
       "      <td>LGA</td>\n",
       "      <td>D</td>\n",
       "      <td>7</td>\n",
       "    </tr>\n",
       "    <tr>\n",
       "      <th>714</th>\n",
       "      <td>ORD</td>\n",
       "      <td>A</td>\n",
       "      <td>15184</td>\n",
       "    </tr>\n",
       "    <tr>\n",
       "      <th>715</th>\n",
       "      <td>ORD</td>\n",
       "      <td>B</td>\n",
       "      <td>17373</td>\n",
       "    </tr>\n",
       "    <tr>\n",
       "      <th>716</th>\n",
       "      <td>ORD</td>\n",
       "      <td>C</td>\n",
       "      <td>20487</td>\n",
       "    </tr>\n",
       "    <tr>\n",
       "      <th>717</th>\n",
       "      <td>ORD</td>\n",
       "      <td>D</td>\n",
       "      <td>2</td>\n",
       "    </tr>\n",
       "  </tbody>\n",
       "</table>\n",
       "</div>"
      ],
      "text/plain": [
       "    Origin CancellationCode  count\n",
       "60     ATL                A  14200\n",
       "61     ATL                B  11682\n",
       "62     ATL                C   7181\n",
       "63     ATL                D     23\n",
       "122    BOS                A   6239\n",
       "123    BOS                B   6270\n",
       "124    BOS                C   3075\n",
       "125    BOS                D      4\n",
       "262    DCA                A   4914\n",
       "263    DCA                B   4049\n",
       "264    DCA                C   2403\n",
       "265    DCA                D      1\n",
       "266    DEN                A   5966\n",
       "267    DEN                B   6260\n",
       "268    DEN                C    690\n",
       "269    DEN                D      2\n",
       "270    DFW                A  10083\n",
       "271    DFW                B  13566\n",
       "272    DFW                C   2634\n",
       "273    DFW                D      3\n",
       "321    EWR                A   3280\n",
       "322    EWR                B   6779\n",
       "323    EWR                C   9557\n",
       "510    JFK                A   3721\n",
       "511    JFK                B   6248\n",
       "512    JFK                C   1164\n",
       "513    JFK                D      9\n",
       "532    LAX                A   8172\n",
       "533    LAX                B   2448\n",
       "534    LAX                C    875\n",
       "535    LAX                D      9\n",
       "552    LGA                A   7471\n",
       "553    LGA                B   8279\n",
       "554    LGA                C   6190\n",
       "555    LGA                D      7\n",
       "714    ORD                A  15184\n",
       "715    ORD                B  17373\n",
       "716    ORD                C  20487\n",
       "717    ORD                D      2"
      ]
     },
     "execution_count": 33,
     "metadata": {},
     "output_type": "execute_result"
    }
   ],
   "source": [
    "# Get the reason for cancellation by code across the worst ten airports\n",
    "\n",
    "ccode = df_merge.groupby(['Origin', 'CancellationCode']).size()\n",
    "ccode = ccode.reset_index(name='count')\n",
    "ccode_worst_ten = ccode[ccode.Origin.isin(worst_ten)]\n",
    "ccode_worst_ten"
   ]
  },
  {
   "cell_type": "code",
   "execution_count": 34,
   "metadata": {},
   "outputs": [
    {
     "name": "stderr",
     "output_type": "stream",
     "text": [
      "/Users/Matt/anaconda3/lib/python3.7/site-packages/ipykernel_launcher.py:4: SettingWithCopyWarning: \n",
      "A value is trying to be set on a copy of a slice from a DataFrame.\n",
      "Try using .loc[row_indexer,col_indexer] = value instead\n",
      "\n",
      "See the caveats in the documentation: http://pandas.pydata.org/pandas-docs/stable/indexing.html#indexing-view-versus-copy\n",
      "  after removing the cwd from sys.path.\n"
     ]
    },
    {
     "data": {
      "text/plain": [
       "Text(0.5, 0, 'Airport')"
      ]
     },
     "execution_count": 34,
     "metadata": {},
     "output_type": "execute_result"
    },
    {
     "data": {
      "image/png": "[encoded data removed]",
      "text/plain": [
       "<Figure size 432x288 with 1 Axes>"
      ]
     },
     "metadata": {
      "needs_background": "light"
     },
     "output_type": "display_data"
    }
   ],
   "source": [
    "# Plot\n",
    "\n",
    "airport_order = pd.api.types.CategoricalDtype(ordered=True, categories=worst_ten)\n",
    "ccode_worst_ten['Origin'] = ccode_worst_ten['Origin'].astype(airport_order); \n",
    "\n",
    "sb.barplot(data=ccode_worst_ten, x='Origin', y='count', hue='CancellationCode')\n",
    "plt.xticks(rotation=90)\n",
    "plt.title('Airports with the Most Cancellations')\n",
    "plt.xlabel('Airport')"
   ]
  },
  {
   "cell_type": "markdown",
   "metadata": {},
   "source": [
    "Cancellation codes are: \n",
    "* A = carrier\n",
    "* B = weather\n",
    "* C = NAS (National Aviation System Delay)\n",
    "* D = Security\n",
    "\n",
    "We can clearly see that ORD suffered from NAS delays, which is weather that can slow down the system but shouldn't necessarily cause cancellation ([see reference](https://www.bts.gov/topics/airlines-and-airports/understanding-reporting-causes-flight-delays-and-cancellations))\n",
    "\n",
    "Security is not a really a factor for delays."
   ]
  },
  {
   "cell_type": "markdown",
   "metadata": {},
   "source": [
    "## Multivariate Exploration\n",
    "Now let's look at a multivariate analysis of airport and carrier performance. Let's start with cancellations.te Exploration\n",
    "\n",
    "\n"
   ]
  },
  {
   "cell_type": "code",
   "execution_count": 64,
   "metadata": {},
   "outputs": [
    {
     "data": {
      "text/plain": [
       "WN    4505980\n",
       "AA    2555908\n",
       "OO    2230604\n",
       "MQ    2113307\n",
       "DL    2092208\n",
       "UA    1925443\n",
       "US    1869489\n",
       "NW    1675890\n",
       "XE    1654520\n",
       "CO    1227656\n",
       "EV    1144599\n",
       "OH    1090830\n",
       "FL     957880\n",
       "YV     854056\n",
       "B6     654323\n",
       "AS     628791\n",
       "9E     521059\n",
       "F9     336958\n",
       "HA     218357\n",
       "HP     197853\n",
       "Name: UniqueCarrier, dtype: int64"
      ]
     },
     "execution_count": 64,
     "metadata": {},
     "output_type": "execute_result"
    }
   ],
   "source": [
    "# Let's limit the number of carriers to the number of airports we will analyze - the top 20 busiest\n",
    "twenty_carriers = df_merge.UniqueCarrier.value_counts().nlargest(20)\n",
    "twenty_carriers"
   ]
  },
  {
   "cell_type": "code",
   "execution_count": 66,
   "metadata": {},
   "outputs": [],
   "source": [
    "# capture these carriers in a list\n",
    "twenty_carriers = ['WA', 'AA', 'OO', 'MQ', 'DL', 'UA', 'US', 'NW', 'XE', 'CO', 'EV', 'OH', 'FL', 'YV',\n",
    "                  'B6', 'AS', '9E', 'F9', 'HA', 'HP']"
   ]
  },
  {
   "cell_type": "code",
   "execution_count": 153,
   "metadata": {},
   "outputs": [
    {
     "data": {
      "text/html": [
       "<div>\n",
       "<style scoped>\n",
       "    .dataframe tbody tr th:only-of-type {\n",
       "        vertical-align: middle;\n",
       "    }\n",
       "\n",
       "    .dataframe tbody tr th {\n",
       "        vertical-align: top;\n",
       "    }\n",
       "\n",
       "    .dataframe thead th {\n",
       "        text-align: right;\n",
       "    }\n",
       "</style>\n",
       "<table border=\"1\" class=\"dataframe\">\n",
       "  <thead>\n",
       "    <tr style=\"text-align: right;\">\n",
       "      <th></th>\n",
       "      <th>UniqueCarrier</th>\n",
       "      <th>Origin</th>\n",
       "      <th>Cancelled</th>\n",
       "    </tr>\n",
       "  </thead>\n",
       "  <tbody>\n",
       "    <tr>\n",
       "      <th>0</th>\n",
       "      <td>9E</td>\n",
       "      <td>ABE</td>\n",
       "      <td>55</td>\n",
       "    </tr>\n",
       "    <tr>\n",
       "      <th>1</th>\n",
       "      <td>9E</td>\n",
       "      <td>ALB</td>\n",
       "      <td>32</td>\n",
       "    </tr>\n",
       "    <tr>\n",
       "      <th>2</th>\n",
       "      <td>9E</td>\n",
       "      <td>ALO</td>\n",
       "      <td>89</td>\n",
       "    </tr>\n",
       "    <tr>\n",
       "      <th>3</th>\n",
       "      <td>9E</td>\n",
       "      <td>ATL</td>\n",
       "      <td>152</td>\n",
       "    </tr>\n",
       "    <tr>\n",
       "      <th>4</th>\n",
       "      <td>9E</td>\n",
       "      <td>ATW</td>\n",
       "      <td>125</td>\n",
       "    </tr>\n",
       "  </tbody>\n",
       "</table>\n",
       "</div>"
      ],
      "text/plain": [
       "  UniqueCarrier Origin  Cancelled\n",
       "0            9E    ABE         55\n",
       "1            9E    ALB         32\n",
       "2            9E    ALO         89\n",
       "3            9E    ATL        152\n",
       "4            9E    ATW        125"
      ]
     },
     "execution_count": 153,
     "metadata": {},
     "output_type": "execute_result"
    }
   ],
   "source": [
    "# Create dataframe that captures cancellation grouped by carriers and airports\n",
    "\n",
    "carrier_airport = df_merge.groupby(by=['UniqueCarrier', 'Origin']).Cancelled.sum().reset_index()\n",
    "carrier_airport_df = pd.DataFrame(carrier_airport)\n",
    "carrier_airport_df.head()"
   ]
  },
  {
   "cell_type": "code",
   "execution_count": 159,
   "metadata": {},
   "outputs": [],
   "source": [
    "# Filter dataframe to the top twenty busiest airports and carriers\n",
    "carrier_airport_twenty = carrier_airport[carrier_airport_df['Origin'].isin(origin_order_20)]"
   ]
  },
  {
   "cell_type": "code",
   "execution_count": 163,
   "metadata": {},
   "outputs": [
    {
     "data": {
      "text/plain": [
       "<matplotlib.collections.PathCollection at 0x1a2f0499e8>"
      ]
     },
     "execution_count": 163,
     "metadata": {},
     "output_type": "execute_result"
    },
    {
     "data": {
      "image/png": "[encoded data removed]",
      "text/plain": [
       "<Figure size 720x720 with 1 Axes>"
      ]
     },
     "metadata": {
      "needs_background": "light"
     },
     "output_type": "display_data"
    }
   ],
   "source": [
    "# plot\n",
    "plt.scatter(data=carrier_airport_twenty, x='UniqueCarrier', y='Origin', s=carrier_airport_twenty['Cancelled']/20)"
   ]
  },
  {
   "cell_type": "markdown",
   "metadata": {},
   "source": [
    "This quickly shows that there are some risky airport/carrier combinations. For instance, you may want to avoid flying American Airlines (AA) out of Dallas (DFW), while Delta (DL) out of Boston (BOS) is safe (this is my preferred routine!)"
   ]
  },
  {
   "cell_type": "code",
   "execution_count": 183,
   "metadata": {},
   "outputs": [
    {
     "data": {
      "text/plain": [
       "Index(['ATL', 'ORD', 'DFW', 'LAX', 'DEN', 'IAH', 'PHX', 'LAS', 'EWR', 'DTW',\n",
       "       'SLC', 'MSP', 'SFO', 'CVG', 'BOS', 'MCO', 'LGA', 'CLT', 'JFK', 'PHL'],\n",
       "      dtype='object')"
      ]
     },
     "execution_count": 183,
     "metadata": {},
     "output_type": "execute_result"
    }
   ],
   "source": [
    "origin_order_20"
   ]
  },
  {
   "cell_type": "code",
   "execution_count": 185,
   "metadata": {},
   "outputs": [],
   "source": [
    "twenty_carriers = ['ATL', 'ORD', 'DFW', 'LAX', 'DEN', 'IAH', 'PHX', 'LAS', 'EWR', 'DTW',\n",
    "       'SLC', 'MSP', 'SFO', 'CVG', 'BOS', 'MCO', 'LGA', 'CLT', 'JFK', 'PHL']"
   ]
  },
  {
   "cell_type": "markdown",
   "metadata": {},
   "source": [
    "## Look into Boston\n",
    "Boston is my home airport. I am curious to explore it on its own."
   ]
  },
  {
   "cell_type": "code",
   "execution_count": 188,
   "metadata": {},
   "outputs": [],
   "source": [
    "# Create dataframe filtered on Boston\n",
    "boston_df = df_merge[df_merge['Origin'] == 'BOS']"
   ]
  },
  {
   "cell_type": "markdown",
   "metadata": {},
   "source": [
    "### Is there a relationship between airtime and arrival delay?"
   ]
  },
  {
   "cell_type": "code",
   "execution_count": 194,
   "metadata": {},
   "outputs": [
    {
     "name": "stderr",
     "output_type": "stream",
     "text": [
      "/Users/Matt/anaconda3/lib/python3.7/site-packages/scipy/stats/stats.py:1713: FutureWarning: Using a non-tuple sequence for multidimensional indexing is deprecated; use `arr[tuple(seq)]` instead of `arr[seq]`. In the future this will be interpreted as an array index, `arr[np.array(seq)]`, which will result either in an error or a different result.\n",
      "  return np.add.reduce(sorted[indexer] * weights, axis=axis) / sumval\n"
     ]
    },
    {
     "data": {
      "text/plain": [
       "Text(0.5, 0, 'Arrival Delay')"
      ]
     },
     "execution_count": 194,
     "metadata": {},
     "output_type": "execute_result"
    },
    {
     "data": {
      "image/png": "[encoded data removed]",
      "text/plain": [
       "<Figure size 720x720 with 1 Axes>"
      ]
     },
     "metadata": {
      "needs_background": "light"
     },
     "output_type": "display_data"
    }
   ],
   "source": [
    "sb.regplot(data=boston_df, x='ArrDelay', y='AirTime')\n",
    "plt.xlabel('Arrival Delay')"
   ]
  },
  {
   "cell_type": "markdown",
   "metadata": {},
   "source": [
    "There does not appear to be any coorelation between airtime and arrival delay. This is surprising, as I assumed that the longer the flight the more likely a delay would be. "
   ]
  },
  {
   "cell_type": "markdown",
   "metadata": {},
   "source": [
    "### Is there seasonality to flying?"
   ]
  },
  {
   "cell_type": "code",
   "execution_count": 203,
   "metadata": {},
   "outputs": [
    {
     "data": {
      "text/plain": [
       "<matplotlib.axes._subplots.AxesSubplot at 0x1a2f26e1d0>"
      ]
     },
     "execution_count": 203,
     "metadata": {},
     "output_type": "execute_result"
    },
    {
     "data": {
      "image/png": "[encoded data removed]",
      "text/plain": [
       "<Figure size 432x288 with 1 Axes>"
      ]
     },
     "metadata": {
      "needs_background": "light"
     },
     "output_type": "display_data"
    }
   ],
   "source": [
    "plt.figure(figsize=(6, 4))\n",
    "sb.countplot(data=boston_df, x='Month', color=base_color)"
   ]
  },
  {
   "cell_type": "markdown",
   "metadata": {},
   "source": [
    "The peak month is March, which is a bit surprising. I figured it would be in the summer when people are traveling for vacation. The slowr months come between September and December."
   ]
  },
  {
   "cell_type": "markdown",
   "metadata": {},
   "source": [
    "### Which is the busiest airline that flies out of Boston?"
   ]
  },
  {
   "cell_type": "code",
   "execution_count": 209,
   "metadata": {},
   "outputs": [
    {
     "data": {
      "text/plain": [
       "<matplotlib.axes._subplots.AxesSubplot at 0x1a32a19e80>"
      ]
     },
     "execution_count": 209,
     "metadata": {},
     "output_type": "execute_result"
    },
    {
     "data": {
      "image/png": "[encoded data removed]",
      "text/plain": [
       "<Figure size 432x288 with 1 Axes>"
      ]
     },
     "metadata": {
      "needs_background": "light"
     },
     "output_type": "display_data"
    }
   ],
   "source": [
    "plt.figure(figsize=(6, 4))\n",
    "sb.countplot(data=boston_df, x='UniqueCarrier', color=base_color)"
   ]
  },
  {
   "cell_type": "markdown",
   "metadata": {},
   "source": [
    "This is too hard to sort, so let's order the results in descending order."
   ]
  },
  {
   "cell_type": "code",
   "execution_count": 210,
   "metadata": {},
   "outputs": [
    {
     "data": {
      "text/plain": [
       "<matplotlib.axes._subplots.AxesSubplot at 0x1a2f365048>"
      ]
     },
     "execution_count": 210,
     "metadata": {},
     "output_type": "execute_result"
    },
    {
     "data": {
      "image/png": "[encoded data removed]",
      "text/plain": [
       "<Figure size 432x288 with 1 Axes>"
      ]
     },
     "metadata": {
      "needs_background": "light"
     },
     "output_type": "display_data"
    }
   ],
   "source": [
    "plt.figure(figsize=(6, 4))\n",
    "sb.countplot(data=boston_df, x='UniqueCarrier', color=base_color, order=boston_df.UniqueCarrier.value_counts().index)"
   ]
  },
  {
   "cell_type": "markdown",
   "metadata": {},
   "source": [
    "Ah! This is much better. I am quite surprised that US Airways has by far the most flights followed by my preferred Delta."
   ]
  },
  {
   "cell_type": "markdown",
   "metadata": {},
   "source": [
    "### Let's look at cancellations.\n",
    "* Are they seasonal?\n",
    "* And what types of cancellations are most prominent?\n",
    "* Which airline is the worst? "
   ]
  },
  {
   "cell_type": "code",
   "execution_count": 216,
   "metadata": {},
   "outputs": [],
   "source": [
    "# Create a dataframe that captures cancellations by month for Boston\n",
    "boston_cancel = boston_df.groupby(['Month']).Cancelled.sum()"
   ]
  },
  {
   "cell_type": "code",
   "execution_count": 217,
   "metadata": {},
   "outputs": [],
   "source": [
    "boston_cancel = boston_cancel.reset_index(name='Cancelled')"
   ]
  },
  {
   "cell_type": "code",
   "execution_count": 220,
   "metadata": {},
   "outputs": [
    {
     "data": {
      "text/plain": [
       "<matplotlib.axes._subplots.AxesSubplot at 0x1efc61f470>"
      ]
     },
     "execution_count": 220,
     "metadata": {},
     "output_type": "execute_result"
    },
    {
     "data": {
      "image/png": "[encoded data removed]",
      "text/plain": [
       "<Figure size 432x288 with 1 Axes>"
      ]
     },
     "metadata": {
      "needs_background": "light"
     },
     "output_type": "display_data"
    }
   ],
   "source": [
    "plt.figure(figsize=(6, 4))\n",
    "sb.barplot(data=boston_cancel, x='Month', y='Cancelled', color=base_color)"
   ]
  },
  {
   "cell_type": "markdown",
   "metadata": {},
   "source": [
    "No surprise here. Winter causes lots of problems for Logan Airport. December through February are tough months! But let's see if these cancellations are actually caused by weather as I assume."
   ]
  },
  {
   "cell_type": "code",
   "execution_count": 235,
   "metadata": {},
   "outputs": [],
   "source": [
    "# Create dataframe that captures month, cancellation code, and number of cancellations for Boston\n",
    "boston_cancel_type = boston_df.groupby(['Month', 'CancellationCode']).size()\n",
    "boston_cancel_type = boston_cancel_type.reset_index(name='count')"
   ]
  },
  {
   "cell_type": "code",
   "execution_count": 238,
   "metadata": {},
   "outputs": [
    {
     "data": {
      "text/html": [
       "<div>\n",
       "<style scoped>\n",
       "    .dataframe tbody tr th:only-of-type {\n",
       "        vertical-align: middle;\n",
       "    }\n",
       "\n",
       "    .dataframe tbody tr th {\n",
       "        vertical-align: top;\n",
       "    }\n",
       "\n",
       "    .dataframe thead th {\n",
       "        text-align: right;\n",
       "    }\n",
       "</style>\n",
       "<table border=\"1\" class=\"dataframe\">\n",
       "  <thead>\n",
       "    <tr style=\"text-align: right;\">\n",
       "      <th></th>\n",
       "      <th>Month</th>\n",
       "      <th>CancellationCode</th>\n",
       "      <th>count</th>\n",
       "    </tr>\n",
       "  </thead>\n",
       "  <tbody>\n",
       "    <tr>\n",
       "      <th>0</th>\n",
       "      <td>1</td>\n",
       "      <td>A</td>\n",
       "      <td>716</td>\n",
       "    </tr>\n",
       "    <tr>\n",
       "      <th>1</th>\n",
       "      <td>1</td>\n",
       "      <td>B</td>\n",
       "      <td>1248</td>\n",
       "    </tr>\n",
       "    <tr>\n",
       "      <th>2</th>\n",
       "      <td>1</td>\n",
       "      <td>C</td>\n",
       "      <td>243</td>\n",
       "    </tr>\n",
       "    <tr>\n",
       "      <th>3</th>\n",
       "      <td>2</td>\n",
       "      <td>A</td>\n",
       "      <td>526</td>\n",
       "    </tr>\n",
       "    <tr>\n",
       "      <th>4</th>\n",
       "      <td>2</td>\n",
       "      <td>B</td>\n",
       "      <td>1381</td>\n",
       "    </tr>\n",
       "  </tbody>\n",
       "</table>\n",
       "</div>"
      ],
      "text/plain": [
       "   Month CancellationCode  count\n",
       "0      1                A    716\n",
       "1      1                B   1248\n",
       "2      1                C    243\n",
       "3      2                A    526\n",
       "4      2                B   1381"
      ]
     },
     "execution_count": 238,
     "metadata": {},
     "output_type": "execute_result"
    }
   ],
   "source": [
    "boston_cancel_type.head()"
   ]
  },
  {
   "cell_type": "code",
   "execution_count": 237,
   "metadata": {},
   "outputs": [
    {
     "data": {
      "text/plain": [
       "<matplotlib.axes._subplots.AxesSubplot at 0x1a31fb3908>"
      ]
     },
     "execution_count": 237,
     "metadata": {},
     "output_type": "execute_result"
    },
    {
     "data": {
      "image/png": "[encoded data removed]",
      "text/plain": [
       "<Figure size 720x720 with 1 Axes>"
      ]
     },
     "metadata": {
      "needs_background": "light"
     },
     "output_type": "display_data"
    }
   ],
   "source": [
    "sb.barplot(data=boston_cancel_type, x='Month', y='count', hue='CancellationCode')"
   ]
  },
  {
   "cell_type": "markdown",
   "metadata": {},
   "source": [
    "As suspected, weather accounts for the cancellations during the winter."
   ]
  },
  {
   "cell_type": "code",
   "execution_count": 255,
   "metadata": {},
   "outputs": [
    {
     "data": {
      "text/plain": [
       "<matplotlib.axes._subplots.AxesSubplot at 0x1a33109748>"
      ]
     },
     "execution_count": 255,
     "metadata": {},
     "output_type": "execute_result"
    },
    {
     "data": {
      "image/png": "[encoded data removed]",
      "text/plain": [
       "<Figure size 432x288 with 1 Axes>"
      ]
     },
     "metadata": {
      "needs_background": "light"
     },
     "output_type": "display_data"
    }
   ],
   "source": [
    "plt.figure(figsize=(6, 4))\n",
    "\n",
    "boston_airline_cancel = boston_df.groupby('UniqueCarrier').Cancelled.sum().reset_index(name='count')\n",
    "\n",
    "sb.barplot(data=boston_airline_cancel, x='UniqueCarrier', y='count', color=base_color)"
   ]
  },
  {
   "cell_type": "markdown",
   "metadata": {},
   "source": [
    "US Airways has the most number of cancellations. Delta, despite having the second most flights, has the 4th most cancellations."
   ]
  }
 ],
 "metadata": {
  "kernelspec": {
   "display_name": "Python 3",
   "language": "python",
   "name": "python3"
  },
  "language_info": {
   "codemirror_mode": {
    "name": "ipython",
    "version": 3
   },
   "file_extension": ".py",
   "mimetype": "text/x-python",
   "name": "python",
   "nbconvert_exporter": "python",
   "pygments_lexer": "ipython3",
   "version": "3.7.1"
  }
 },
 "nbformat": 4,
 "nbformat_minor": 2
}
